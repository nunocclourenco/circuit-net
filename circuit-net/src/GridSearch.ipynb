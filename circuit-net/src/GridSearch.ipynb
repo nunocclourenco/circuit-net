{
 "cells": [
  {
   "cell_type": "markdown",
   "metadata": {},
   "source": [
    "# Grid search for parameter hyper-tunning"
   ]
  },
  {
   "cell_type": "code",
   "execution_count": 7,
   "metadata": {},
   "outputs": [],
   "source": [
    "import numpy as np\n",
    "import pandas as pd\n",
    "import keras as k\n",
    "import matplotlib.pyplot as plt\n",
    "from sklearn.model_selection import train_test_split\n",
    "from datetime import datetime\n",
    "\n",
    "\n",
    "from circuit_net import *\n",
    "\n",
    "np.random.seed(7)\n",
    "seed = 7"
   ]
  },
  {
   "cell_type": "code",
   "execution_count": 8,
   "metadata": {},
   "outputs": [],
   "source": [
    "def grid_search (dims = [(15, 210, 240,120,12), (15, 120, 240,120,12), (15, 480, 240,120,12)],\n",
    "                 activations = ['relu', 'sigmoid'],\n",
    "                 reg_lambdas = [0.00003, 0.00001],\n",
    "                 ):\n",
    "    ''' Executes training for multiple models, activatiosn and regularition terms. \n",
    "    '''\n",
    "    grid = []\n",
    "\n",
    "    for activation in activations:\n",
    "        for reg_lambda in reg_lambdas:\n",
    "            for dim in dims:\n",
    "                model = build_dense_model(dim, activation=activation, l2_lambda=reg_lambda)\n",
    "\n",
    "                #Starting Time\n",
    "                start_time = datetime.now()\n",
    "                print('Start ' + str(dim) + ' ' + str(activation) + ' ' + str(reg_lambda) +  ':')\n",
    "\n",
    "                history = model.fit(X_train, \n",
    "                    y_train, \n",
    "                    validation_data = (X_test,y_test),\n",
    "                    epochs = 1000, \n",
    "                    batch_size= 512, \n",
    "                    verbose = 0)\n",
    "            \n",
    "                print('loss-train\\t',history.history['loss'][-1])\n",
    "                print('loss-val\\t', history.history['val_loss'][-1])\n",
    "                \n",
    "                print('MAE-train\\t', history.history['mae'][-1])\n",
    "                print('MAE-val \\t', history.history['val_mae'][-1])\n",
    "                stop_time = datetime.now()\n",
    "                elapsed_time = stop_time - start_time\n",
    "                print('Elapsed Time:', elapsed_time) \n",
    "\n",
    "                grid.append( (model, history, dim, activation, reg_lambda))\n",
    "     \n",
    "    return grid\n"
   ]
  },
  {
   "cell_type": "code",
   "execution_count": 9,
   "metadata": {},
   "outputs": [],
   "source": [
    "dataframe = pd.read_csv(\"../data/ssvcamplifier(umc_013)_dataset_v2.csv\")\n",
    "\n",
    "Y = dataframe[['w8','w6','w4','w10','w1','w0','l8','l6','l4','l10','l1','l0']]\n",
    "X = dataframe[['gdc','idd','gbw','pm']]\n",
    "\n",
    "\n",
    "X_scaled, Y_scaled, scalers = scale_data(X.values, Y.values)\n",
    "X_train, X_test, y_train, y_test = train_test_split(X_scaled, Y_scaled,\n",
    "                                                    test_size = 0.2,\n",
    "                                                    random_state = seed)\n"
   ]
  },
  {
   "cell_type": "code",
   "execution_count": 10,
   "metadata": {},
   "outputs": [
    {
     "name": "stdout",
     "output_type": "stream",
     "text": [
      "Start (15, 210, 240, 120, 12) relu 3e-05:\n",
      "loss-train\t 0.009387866593897343\n",
      "loss-val\t 0.009264879859983921\n",
      "MAE-train\t 0.059742748737335205\n",
      "MAE-val \t 0.05964645370841026\n",
      "Elapsed Time: 0:03:55.317174\n",
      "Start (15, 120, 240, 120, 12) relu 3e-05:\n",
      "loss-train\t 0.009324650280177593\n",
      "loss-val\t 0.009280497208237648\n",
      "MAE-train\t 0.059481728821992874\n",
      "MAE-val \t 0.059389859437942505\n",
      "Elapsed Time: 0:03:38.667522\n",
      "Start (15, 480, 240, 120, 12) relu 3e-05:\n",
      "loss-train\t 0.00936482846736908\n",
      "loss-val\t 0.00921653676778078\n",
      "MAE-train\t 0.05977832153439522\n",
      "MAE-val \t 0.05943281576037407\n",
      "Elapsed Time: 0:05:59.777159\n",
      "Start (15, 210, 240, 120, 12) relu 1e-05:\n",
      "loss-train\t 0.00876836758106947\n",
      "loss-val\t 0.009014665149152279\n",
      "MAE-train\t 0.05721062794327736\n",
      "MAE-val \t 0.05858159810304642\n",
      "Elapsed Time: 0:03:09.258599\n",
      "Start (15, 120, 240, 120, 12) relu 1e-05:\n",
      "loss-train\t 0.008779875002801418\n",
      "loss-val\t 0.00894133746623993\n",
      "MAE-train\t 0.057657673954963684\n",
      "MAE-val \t 0.05792507901787758\n",
      "Elapsed Time: 0:02:46.554190\n",
      "Start (15, 480, 240, 120, 12) relu 1e-05:\n",
      "loss-train\t 0.008816284127533436\n",
      "loss-val\t 0.009015999734401703\n",
      "MAE-train\t 0.05778243765234947\n",
      "MAE-val \t 0.05865442380309105\n",
      "Elapsed Time: 0:06:13.502941\n",
      "Start (15, 210, 240, 120, 12) sigmoid 3e-05:\n",
      "loss-train\t 0.015375067479908466\n",
      "loss-val\t 0.015239610336720943\n",
      "MAE-train\t 0.08782658725976944\n",
      "MAE-val \t 0.08691194653511047\n",
      "Elapsed Time: 0:32:36.107609\n",
      "Start (15, 120, 240, 120, 12) sigmoid 3e-05:\n",
      "loss-train\t 0.015392093919217587\n",
      "loss-val\t 0.015233841724693775\n",
      "MAE-train\t 0.08821724355220795\n",
      "MAE-val \t 0.08771111071109772\n",
      "Elapsed Time: 0:05:18.344006\n",
      "Start (15, 480, 240, 120, 12) sigmoid 3e-05:\n"
     ]
    }
   ],
   "source": [
    "grid_search()\n"
   ]
  }
 ],
 "metadata": {
  "kernelspec": {
   "display_name": "Python 3",
   "language": "python",
   "name": "python3"
  },
  "language_info": {
   "codemirror_mode": {
    "name": "ipython",
    "version": 3
   },
   "file_extension": ".py",
   "mimetype": "text/x-python",
   "name": "python",
   "nbconvert_exporter": "python",
   "pygments_lexer": "ipython3",
   "version": "3.8.10"
  }
 },
 "nbformat": 4,
 "nbformat_minor": 2
}
